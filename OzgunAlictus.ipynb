{
 "cells": [
  {
   "cell_type": "markdown",
   "id": "95abf8e3-8f21-49b7-8fb4-7cade26e2ba7",
   "metadata": {},
   "source": [
    "# Create Desktop App in Google Cloud Console and Authorize "
   ]
  },
  {
   "cell_type": "markdown",
   "id": "3b4bcd6b-f050-4430-a536-b2ba2e3bbe3d",
   "metadata": {},
   "source": [
    "I used my school's email. In first run you need to autorize manually on browser. \n",
    "If you can't access it please let me know becaue school email is using mobile verification."
   ]
  },
  {
   "cell_type": "code",
   "execution_count": 1218,
   "id": "17ae9297-5ff9-47c5-a898-dd4eccd105ca",
   "metadata": {},
   "outputs": [],
   "source": [
    "# Jupyter Notebook is used."
   ]
  },
  {
   "cell_type": "code",
   "execution_count": 1219,
   "id": "3247451a-0158-48ce-9681-20b2aa721cae",
   "metadata": {},
   "outputs": [
    {
     "data": {
      "text/plain": [
       "'Full authorization is given from Google Cloud Platform by following the method below'"
      ]
     },
     "execution_count": 1219,
     "metadata": {},
     "output_type": "execute_result"
    }
   ],
   "source": [
    "'Full authorization is given from Google Cloud Platform by following the method below'\n",
    "#Create project-> API's and Services-> Libraries Allow API's-> Credentials-> oAuth"
   ]
  },
  {
   "cell_type": "code",
   "execution_count": 1220,
   "id": "8f78e814-f645-483f-9e62-9f0558da209b",
   "metadata": {},
   "outputs": [],
   "source": [
    "#necessary libraries are included for authorization and the other functions\n",
    "from __future__ import print_function\n",
    "import os.path\n",
    "'Google Drive API and Sheets API'\n",
    "from googleapiclient.discovery import build\n",
    "from google_auth_oauthlib.flow import InstalledAppFlow\n",
    "from google.auth.transport.requests import Request\n",
    "from google.oauth2.credentials import Credentials\n",
    "from oauth2client.service_account import ServiceAccountCredentials\n",
    "from apiclient.discovery import build\n",
    "from apiclient.http import MediaFileUpload\n",
    "import pandas as pd"
   ]
  },
  {
   "cell_type": "code",
   "execution_count": 1221,
   "id": "2986404b-974e-47bf-a5b4-466db6e4f50d",
   "metadata": {},
   "outputs": [],
   "source": [
    "import win32com.client as win32"
   ]
  },
  {
   "cell_type": "markdown",
   "id": "cb8df46e-a500-493f-89ea-909e81e1b8f3",
   "metadata": {},
   "source": [
    "#### Slack API Libraries"
   ]
  },
  {
   "cell_type": "code",
   "execution_count": 1222,
   "id": "93d0982f-6e25-4ca1-a93a-a3fa4b1d18e4",
   "metadata": {},
   "outputs": [],
   "source": [
    "import slack\n",
    "import os\n",
    "from pathlib import Path\n",
    "from dotenv import load_dotenv"
   ]
  },
  {
   "cell_type": "markdown",
   "id": "07fb795f-3356-4846-9644-8bf942e28d46",
   "metadata": {},
   "source": [
    "#### Slack API Connection"
   ]
  },
  {
   "cell_type": "code",
   "execution_count": 1223,
   "id": "2557d88d-dea1-4eb9-aef2-a4b13fe9df4c",
   "metadata": {},
   "outputs": [],
   "source": [
    "#environment file and bot token connection for slack bot\n",
    "env_path = Path('.') / '.env'\n",
    "load_dotenv(dotenv_path=env_path)\n",
    "#initialization slack bot\n",
    "client = slack.WebClient(token=os.environ['SLACK_TOKEN'])"
   ]
  },
  {
   "cell_type": "markdown",
   "id": "8ed18857-5e28-41bc-a490-1bddf564acaf",
   "metadata": {},
   "source": [
    "### Dataset.xlsx Preview"
   ]
  },
  {
   "cell_type": "code",
   "execution_count": 1224,
   "id": "d7673825-d804-4307-9d06-7b8403ba1ab1",
   "metadata": {},
   "outputs": [
    {
     "data": {
      "text/html": [
       "<div>\n",
       "<style scoped>\n",
       "    .dataframe tbody tr th:only-of-type {\n",
       "        vertical-align: middle;\n",
       "    }\n",
       "\n",
       "    .dataframe tbody tr th {\n",
       "        vertical-align: top;\n",
       "    }\n",
       "\n",
       "    .dataframe thead th {\n",
       "        text-align: right;\n",
       "    }\n",
       "</style>\n",
       "<table border=\"1\" class=\"dataframe\">\n",
       "  <thead>\n",
       "    <tr style=\"text-align: right;\">\n",
       "      <th></th>\n",
       "      <th>Campaign name</th>\n",
       "      <th>Total Impression</th>\n",
       "      <th>Total Clicks</th>\n",
       "      <th>CTR (%)</th>\n",
       "      <th>CPC</th>\n",
       "      <th>Total App Install</th>\n",
       "    </tr>\n",
       "  </thead>\n",
       "  <tbody>\n",
       "    <tr>\n",
       "      <th>0</th>\n",
       "      <td>A</td>\n",
       "      <td>106622</td>\n",
       "      <td>879</td>\n",
       "      <td>0.82</td>\n",
       "      <td>0.710692</td>\n",
       "      <td>626</td>\n",
       "    </tr>\n",
       "    <tr>\n",
       "      <th>1</th>\n",
       "      <td>B</td>\n",
       "      <td>95687</td>\n",
       "      <td>805</td>\n",
       "      <td>0.84</td>\n",
       "      <td>0.550902</td>\n",
       "      <td>506</td>\n",
       "    </tr>\n",
       "    <tr>\n",
       "      <th>2</th>\n",
       "      <td>C</td>\n",
       "      <td>12157</td>\n",
       "      <td>102</td>\n",
       "      <td>0.84</td>\n",
       "      <td>0.596041</td>\n",
       "      <td>57</td>\n",
       "    </tr>\n",
       "    <tr>\n",
       "      <th>3</th>\n",
       "      <td>D</td>\n",
       "      <td>6006</td>\n",
       "      <td>64</td>\n",
       "      <td>1.07</td>\n",
       "      <td>0.741919</td>\n",
       "      <td>47</td>\n",
       "    </tr>\n",
       "    <tr>\n",
       "      <th>4</th>\n",
       "      <td>E</td>\n",
       "      <td>67782</td>\n",
       "      <td>468</td>\n",
       "      <td>0.69</td>\n",
       "      <td>0.522319</td>\n",
       "      <td>274</td>\n",
       "    </tr>\n",
       "  </tbody>\n",
       "</table>\n",
       "</div>"
      ],
      "text/plain": [
       "  Campaign name   Total Impression  Total Clicks  CTR (%)       CPC  \\\n",
       "0             A             106622           879     0.82  0.710692   \n",
       "1              B             95687           805     0.84  0.550902   \n",
       "2              C             12157           102     0.84  0.596041   \n",
       "3              D              6006            64     1.07  0.741919   \n",
       "4              E             67782           468     0.69  0.522319   \n",
       "\n",
       "   Total App Install  \n",
       "0                626  \n",
       "1                506  \n",
       "2                 57  \n",
       "3                 47  \n",
       "4                274  "
      ]
     },
     "execution_count": 1224,
     "metadata": {},
     "output_type": "execute_result"
    }
   ],
   "source": [
    "#created a data frame to see what we have\n",
    "df = pd.read_excel(\"Dataset.xlsx\")\n",
    "df.head()"
   ]
  },
  {
   "cell_type": "code",
   "execution_count": 1225,
   "id": "8e296aef-82b1-40a0-937d-4d94ace9bd05",
   "metadata": {},
   "outputs": [
    {
     "name": "stdout",
     "output_type": "stream",
     "text": [
      "Files:\n",
      "O (1fAb5gT3DluAcPHiFx88_7pMXrodnQ_t5wRAai9gfVpw)\n",
      "N (1hjA_CnFQu2rpbKCDZCP5gN-5K6-oe13YoQqnIcm_zG4)\n",
      "M (1Bh7M1_5D4QmVFeIbti96G0KqHOgtLl2AZq36tKY0Ouo)\n",
      "L (1-irmQe6-57uglMPyqd7awAPqoaUb6R7swlSzFWJOcmE)\n",
      "K (1iYJGymXjfiVKtkXDhAXXB7GkdYV5XF-VhaQ9hUnK8uk)\n",
      "H (1HL176zsfV_7Qq1lc1RP5FyCtUIDqSkJjULsqzvbJt5E)\n",
      "G (145foG2HesdonoXQyzuGO2Yke8h_j9NKDXKwoaInr8M0)\n",
      "F (1n4VsicrXXcurxJK6SI7TD3XZoxMiZn9xnMlJOXS51sA)\n",
      "E (1oX87JYEVAH87fZFLnID2XhPG18fd3zL19nYuo0Iafcs)\n",
      "D (10f6FjCYBkWimOw9vrVtu781SB2Id9-S-eSZXru2SxWI)\n"
     ]
    }
   ],
   "source": [
    "\n",
    "\n",
    "    # If modifying these scopes, delete the file token.json.\n",
    "    SCOPES = ['https://www.googleapis.com/auth/drive']\n",
    "\n",
    "\n",
    "    creds = None\n",
    "    # The file token.json stores the user's access and refresh tokens, and is\n",
    "    # created automatically when the authorization flow completes for the first\n",
    "    # time.\n",
    "    if os.path.exists('token.json'):\n",
    "        creds = Credentials.from_authorized_user_file('token.json', SCOPES)\n",
    "    # If there are no (valid) credentials available, let the user log in.\n",
    "    if not creds or not creds.valid:\n",
    "        if creds and creds.expired and creds.refresh_token:\n",
    "            creds.refresh(Request())\n",
    "        else:\n",
    "            flow = InstalledAppFlow.from_client_secrets_file(\n",
    "                'client_secrets.json', SCOPES)\n",
    "            creds = flow.run_local_server(port=0)\n",
    "        # Save the credentials for the next run\n",
    "        with open('token.json', 'w') as token:\n",
    "            token.write(creds.to_json())\n",
    "\n",
    "    service = build('drive', 'v3', credentials=creds)\n",
    "\n",
    "    # Call the Drive v3 API\n",
    "    results = service.files().list(\n",
    "        pageSize=10, fields=\"nextPageToken, files(id, name)\").execute()\n",
    "    items = results.get('files', [])\n",
    "\n",
    "    if not items:\n",
    "        print('No files found.')\n",
    "    else:\n",
    "        print('Files:')\n",
    "        #sending notification message to \"campaign\" channel on Slack\n",
    "        client.chat_postMessage(channel='#campaign',text=\"Connected to the Google Drive!\")\n",
    "        \n",
    "        for item in items:\n",
    "            print(u'{0} ({1})'.format(item['name'], item['id']))\n",
    "\n"
   ]
  },
  {
   "cell_type": "markdown",
   "id": "cd284f69-7fa1-404e-820b-ad71b4721c30",
   "metadata": {},
   "source": [
    "# 1-) Upload The Dataset To Google Drive"
   ]
  },
  {
   "cell_type": "code",
   "execution_count": 1226,
   "id": "68438ea4-90d4-41f7-a092-6a299a89c320",
   "metadata": {},
   "outputs": [],
   "source": [
    "def uploadFile(local_name,upload_name):\n",
    "    #sending notification message to \"campaign\" channel on Slack\n",
    "    client.chat_postMessage(channel='#campaign',text=upload_name+ \" file is uploaded to Google Drive.\")\n",
    "    file_metadata = {'name': str(upload_name)}\n",
    "    media = MediaFileUpload(str(local_name), mimetype='application/vnd.ms-excel')\n",
    "    file = service.files().create(body=file_metadata,media_body=media,fields='id').execute()\n",
    "    print ('File ID: %s' % file.get('id'))\n",
    "    "
   ]
  },
  {
   "cell_type": "code",
   "execution_count": 1227,
   "id": "05a68d35-b3fd-497a-951c-efe5f3de81ee",
   "metadata": {},
   "outputs": [
    {
     "name": "stdout",
     "output_type": "stream",
     "text": [
      "File ID: 1_Z28B9w92YtATiQtsfdwBz55B-9QC8So\n"
     ]
    }
   ],
   "source": [
    "uploadFile(\"Dataset.xlsx\",\"Dataset.xlsx\")"
   ]
  },
  {
   "cell_type": "markdown",
   "id": "eedca526-4689-4cf6-842f-6e7c1ad02ad7",
   "metadata": {},
   "source": [
    "# 2-) Create A Folder That Contains The Datasets Spreadsheet In It Via API Methods."
   ]
  },
  {
   "cell_type": "markdown",
   "id": "50dd1245-74ac-4e51-a310-985a6b1dfe83",
   "metadata": {},
   "source": [
    "###   2.1-) Create Folder"
   ]
  },
  {
   "cell_type": "code",
   "execution_count": 1228,
   "id": "c33af976-c95d-4f60-ba1c-923867307eed",
   "metadata": {},
   "outputs": [],
   "source": [
    "def createFolder(name):\n",
    "    name= str(name)\n",
    "    file_metadata = {\n",
    "        'name': name,\n",
    "        'mimeType': 'application/vnd.google-apps.folder'\n",
    "    }\n",
    "    \n",
    "    #sending notification message to \"campaign\" channel on Slack\n",
    "    client.chat_postMessage(channel='#campaign',text= name+ \" file is created on Google Drive.\")\n",
    "    \n",
    "    file = service.files().create(body=file_metadata, fields='id').execute()\n",
    "    print('Folder ID: %s' % file.get('id'))"
   ]
  },
  {
   "cell_type": "code",
   "execution_count": 1229,
   "id": "8924bd9a-655f-446c-8fed-dfbaf41f983c",
   "metadata": {},
   "outputs": [
    {
     "name": "stdout",
     "output_type": "stream",
     "text": [
      "Folder ID: 1lNeDYhwqA4T-9wnaApkj0VoQROQkPDc4\n"
     ]
    }
   ],
   "source": [
    "createFolder(\"Dataset\")"
   ]
  },
  {
   "cell_type": "markdown",
   "id": "17637e00-c021-4fb8-8564-40dde735397d",
   "metadata": {},
   "source": [
    "### 2.2-) Create Spreadsheet For Dataset"
   ]
  },
  {
   "cell_type": "code",
   "execution_count": 1230,
   "id": "e1a1015d-c61e-429a-89ce-02768980bf75",
   "metadata": {},
   "outputs": [],
   "source": [
    "#authorization, version and including the credentials for Spreadsheet\n",
    "serviceSheets=build('sheets', 'v4', credentials=creds)"
   ]
  },
  {
   "cell_type": "code",
   "execution_count": 1231,
   "id": "0533ce36-5ea9-418d-a8b8-99b8418115b3",
   "metadata": {},
   "outputs": [],
   "source": [
    "def createSpreadSheet(title):\n",
    "    title =str(title)\n",
    "    serviceSheets=build('sheets', 'v4', credentials=creds)\n",
    "    spreadsheet = {\n",
    "    'properties': {\n",
    "        'title': title,\n",
    "        'locale': 'en_US',\n",
    "        'timeZone':'Europe',\n",
    "        'autoRecalc':'HOUR'\n",
    "        }\n",
    "    }\n",
    "    \n",
    "    spreadsheet = serviceSheets.spreadsheets().create(body=spreadsheet,fields='spreadsheetId').execute()\n",
    "    ssheet_id='{0}'.format(spreadsheet.get('spreadsheetId'))\n",
    "    \n",
    "    #sending notification message to \"campaign\" channel on Slack\n",
    "    client.chat_postMessage(channel='#campaign',text= title+ \" file spreadsheet is created on google drive.\")\n",
    "    \n",
    "    print(\"Spreadsheet is created\")\n",
    "    print('Spreadsheet ID: {0}'.format(spreadsheet.get('spreadsheetId')))\n",
    "    return ssheet_id"
   ]
  },
  {
   "cell_type": "code",
   "execution_count": 1232,
   "id": "f55731a4-bbc4-498a-a4bf-fe740d3cd904",
   "metadata": {},
   "outputs": [
    {
     "name": "stdout",
     "output_type": "stream",
     "text": [
      "Spreadsheet is created\n",
      "Spreadsheet ID: 19UFExM6FdSVwcPZ3RhwYbWSxngMiUgWnaTgNLoVrsE4\n"
     ]
    },
    {
     "data": {
      "text/plain": [
       "'19UFExM6FdSVwcPZ3RhwYbWSxngMiUgWnaTgNLoVrsE4'"
      ]
     },
     "execution_count": 1232,
     "metadata": {},
     "output_type": "execute_result"
    }
   ],
   "source": [
    "createSpreadSheet(\"Dataset\")"
   ]
  },
  {
   "cell_type": "markdown",
   "id": "6345e744-4766-486b-aa14-ce55bfe2d041",
   "metadata": {},
   "source": [
    "### 2.3-) Dataset To SpreadSheet"
   ]
  },
  {
   "cell_type": "code",
   "execution_count": 1233,
   "id": "7be10d04-45fb-47da-93a0-b4bb29db566e",
   "metadata": {},
   "outputs": [],
   "source": [
    "#dataset is written to the spreadsheet"
   ]
  },
  {
   "cell_type": "code",
   "execution_count": 1234,
   "id": "4bd14263-8502-4bf6-905b-641d4ab9f64c",
   "metadata": {},
   "outputs": [],
   "source": [
    "def datasetToSpread(spread_id):\n",
    "    mySpreadsheets = serviceSheets.spreadsheets().get(spreadsheetId=spread_id).execute()\n",
    "    xlApp = win32.Dispatch('Excel.Application')\n",
    "    wb = xlApp.Workbooks.Open(r\"C:\\Users\\ASUS\\Desktop\\Keele Denemeler\\Alictus\\Dataset.xlsx\")\n",
    "    ws = wb.Worksheets(\"Sayfa1\")\n",
    "    rngData = ws.Range('A1').CurrentRegion()\n",
    "    \n",
    "    response = serviceSheets.spreadsheets().values().append(\n",
    "    spreadsheetId=spread_id,\n",
    "    valueInputOption='RAW',\n",
    "    range='Sheet1!A1',\n",
    "    body=dict(\n",
    "        majorDimension='ROWS',\n",
    "        values=rngData\n",
    "    )\n",
    "    ).execute()\n",
    "    #sending notification message to \"campaign\" channel on Slack\n",
    "    client.chat_postMessage(channel='#campaign',text= \"Dataset is successfully written to the spreadsheet. Spreadsheet ID is\"+spread_id)\n",
    "    print(\"successfully written to:\",spread_id)\n",
    "    "
   ]
  },
  {
   "cell_type": "code",
   "execution_count": 1235,
   "id": "a8cb42a1-77da-46d7-9fbd-645dadd406d0",
   "metadata": {},
   "outputs": [
    {
     "name": "stdout",
     "output_type": "stream",
     "text": [
      "successfully written to: 19UFExM6FdSVwcPZ3RhwYbWSxngMiUgWnaTgNLoVrsE4\n"
     ]
    }
   ],
   "source": [
    "datasetToSpread(\"19UFExM6FdSVwcPZ3RhwYbWSxngMiUgWnaTgNLoVrsE4\")"
   ]
  },
  {
   "cell_type": "markdown",
   "id": "82e29aa3-c861-4d69-b339-a4121551ec3a",
   "metadata": {},
   "source": [
    "### 2.4-) Move File To Dataset Folder"
   ]
  },
  {
   "cell_type": "code",
   "execution_count": 1236,
   "id": "2ed6c840-1fed-4354-87e8-8a40af6848f8",
   "metadata": {},
   "outputs": [],
   "source": [
    "def moveFileToFolder(file_id,folder_id):\n",
    "    file_id = str(file_id)\n",
    "    folder_id = str(folder_id)\n",
    "\n",
    "    # Retrieve the existing parents to remove\n",
    "    file = service.files().get(fileId=file_id, fields='parents').execute()\n",
    "    previous_parents = \",\".join(file.get('parents'))\n",
    "\n",
    "    # Move the file to the target folder\n",
    "    file = service.files().update(\n",
    "        fileId=file_id,\n",
    "        addParents=folder_id,\n",
    "        removeParents=previous_parents,\n",
    "        fields='id, parents'\n",
    "    ).execute()\n",
    "    \n",
    "    #sending notification message to \"campaign\" channel on Slack\n",
    "    client.chat_postMessage(channel='#campaign',text= file_id+\" File is transferred to the folder. Folder ID:\"+folder_id)\n",
    "    \n",
    "    print(\"File transferred to the location:\",folder_id)"
   ]
  },
  {
   "cell_type": "code",
   "execution_count": 1237,
   "id": "17ef0903-4f83-4e55-86e1-00084bc03dbc",
   "metadata": {},
   "outputs": [
    {
     "name": "stdout",
     "output_type": "stream",
     "text": [
      "File transferred to the location: 1lNeDYhwqA4T-9wnaApkj0VoQROQkPDc4\n"
     ]
    }
   ],
   "source": [
    "moveFileToFolder(\"19UFExM6FdSVwcPZ3RhwYbWSxngMiUgWnaTgNLoVrsE4\",\"1lNeDYhwqA4T-9wnaApkj0VoQROQkPDc4\")"
   ]
  },
  {
   "cell_type": "markdown",
   "id": "f7c45678-408c-4782-88c1-29e31b029ede",
   "metadata": {},
   "source": [
    "# 3-) Create Seperate Spreadsheets For Each Campaign"
   ]
  },
  {
   "cell_type": "markdown",
   "id": "64e442ca-273f-45c8-9c85-3deec19bd26f",
   "metadata": {},
   "source": [
    "### Total Budget Calculation To G COLUMN"
   ]
  },
  {
   "cell_type": "code",
   "execution_count": 609,
   "id": "9314e384-4ce6-4be4-aa24-f7d98cb2f836",
   "metadata": {},
   "outputs": [],
   "source": [
    "# need spreadsheet id and sheet_id"
   ]
  },
  {
   "cell_type": "code",
   "execution_count": 1238,
   "id": "3c61ccdc-d0f7-4446-b67a-7d494d076459",
   "metadata": {},
   "outputs": [],
   "source": [
    "def budgetCalculation(spread_id,sheet_id):\n",
    "    \n",
    "    # adding header to the G1\n",
    "    request_body = {\n",
    "\n",
    "        \"majorDimension\": \"COLUMNS\",\n",
    "        \"values\": [\n",
    "            ['Total Budget']\n",
    "        ]\n",
    "    }\n",
    "    \n",
    "    response = serviceSheets.spreadsheets().values().update(\n",
    "    spreadsheetId=spread_id,\n",
    "    valueInputOption='RAW',\n",
    "    range='Sheet1!G1',\n",
    "    body=request_body\n",
    "    ).execute()\n",
    "    \n",
    "    request_body2 ={\n",
    "      \"requests\": [\n",
    "        {\n",
    "          \"repeatCell\": {\n",
    "            \"range\": {\n",
    "              \"sheetId\": sheet_id,\n",
    "              \"startRowIndex\": 1,\n",
    "              \"endRowIndex\": 14,\n",
    "              \"startColumnIndex\": 6,\n",
    "              \"endColumnIndex\": 7\n",
    "            },\n",
    "            \"cell\": {\n",
    "              \"userEnteredValue\": {\n",
    "                  # =FLOOR(E2*C2) for integer values\n",
    "                  \"formulaValue\": \"=E2*C2\"\n",
    "              }\n",
    "            },\n",
    "            \"fields\": \"userEnteredValue\"\n",
    "          }\n",
    "        }\n",
    "      ]\n",
    "    }\n",
    "\n",
    "\n",
    "    response = serviceSheets.spreadsheets().batchUpdate(\n",
    "    spreadsheetId=spread_id,\n",
    "    body=request_body2\n",
    "    ).execute()\n",
    "    \n",
    "    #sending notification message to \"campaign\" channel on Slack\n",
    "    client.chat_postMessage(channel='#campaign',text= \"Total Budget is calculated for each campaign.\")\n",
    "    \n",
    "    print(\"Spread id: {n} \\n Sheet ID:{s}\".format(n=spread_id,s=sheet_id))\n",
    "    print(\"Calculation is completed and written to the G Column\")"
   ]
  },
  {
   "cell_type": "code",
   "execution_count": 1239,
   "id": "6c6b360c-8a4f-4bf3-8c82-85cc454aaf3c",
   "metadata": {},
   "outputs": [
    {
     "name": "stdout",
     "output_type": "stream",
     "text": [
      "Spread id: 19UFExM6FdSVwcPZ3RhwYbWSxngMiUgWnaTgNLoVrsE4 \n",
      " Sheet ID:0\n",
      "Calculation is completed and written to the G Column\n"
     ]
    }
   ],
   "source": [
    "budgetCalculation(\"19UFExM6FdSVwcPZ3RhwYbWSxngMiUgWnaTgNLoVrsE4\",\"0\")"
   ]
  },
  {
   "cell_type": "markdown",
   "id": "ce144231-7282-45ef-b7ca-7da6e5eaaddd",
   "metadata": {},
   "source": [
    "### 3.1-) Divide Each Row And Save Them As Different SpreadSheets "
   ]
  },
  {
   "cell_type": "code",
   "execution_count": 1240,
   "id": "031c01b6-dc1f-484d-87d3-d619fb931d10",
   "metadata": {},
   "outputs": [],
   "source": [
    "# Reaching To the Dataset SpreadSheet"
   ]
  },
  {
   "cell_type": "code",
   "execution_count": 1241,
   "id": "5798c32b-0863-4c88-b10d-ade3ccc824af",
   "metadata": {},
   "outputs": [],
   "source": [
    "datasetSpread_id = \"19UFExM6FdSVwcPZ3RhwYbWSxngMiUgWnaTgNLoVrsE4\""
   ]
  },
  {
   "cell_type": "code",
   "execution_count": 1242,
   "id": "94064694-e69c-49e6-9865-f7395db4f211",
   "metadata": {},
   "outputs": [
    {
     "name": "stdout",
     "output_type": "stream",
     "text": [
      "File Contains Below\n",
      "{'range': 'Sheet1!A1:G15', 'majorDimension': 'ROWS', 'values': [['Campaign name ', 'Total Impression', 'Total Clicks', 'CTR (%)', 'CPC', 'Total App Install', 'Total Budget'], ['A ', '106622', '879', '0.82', '0.7106916 ', '626', '624.6979164'], ['B', '95687', '805', '0.84', '0.5509020', '506', '443.47611'], ['C', '12157', '102', '0.84', '0.5960410', '57', '60.796182'], ['D', '6006', '64', ' 1.07 ', '0.7419186', '47', '47.4827904'], ['E', '67782', '468', ' 0.69 ', '0.5223186', '274', '244.4451048'], ['F', '4844', '49', ' 1.01', '0.6753181', '31', '33.0905869'], ['G', '7810', '54', ' 0.69', '0.5259081', '30', '28.3990374'], ['H', '9053', '69', ' 0.76', '0.5454837 ', '41', '37.6383753'], ['K', '13279', '101', ' 0.76', '0.4683506 ', '46', '47.3034106'], ['L', '18827', '123', ' 0.65', '0.4733046', '64', '58.2164658'], ['M', '16611', '108', ' 0.65', '0.4604180', '57', '49.725144'], ['N', '10246', '57', ' 0.56', '0.5342519 ', '27', '30.4523583'], ['O', '145467', '675', ' 0.46', '0.3499587 ', '340', '236.2221225']]}\n"
     ]
    }
   ],
   "source": [
    "response = serviceSheets.spreadsheets().values().get(\n",
    "spreadsheetId=datasetSpread_id,\n",
    "majorDimension='ROWS',\n",
    "range='Sheet1!A1:G15'\n",
    ").execute()\n",
    "\n",
    "print(\"File Contains Below\")\n",
    "print(response)"
   ]
  },
  {
   "cell_type": "code",
   "execution_count": 1243,
   "id": "73686adf-9530-477a-a066-ac18d203ac6c",
   "metadata": {},
   "outputs": [
    {
     "data": {
      "text/plain": [
       "<slack.web.slack_response.SlackResponse at 0x2d089b56b20>"
      ]
     },
     "execution_count": 1243,
     "metadata": {},
     "output_type": "execute_result"
    }
   ],
   "source": [
    "#sending notification message to \"campaign\" channel on Slack\n",
    "client.chat_postMessage(channel='#campaign',text= \"Dataset values read.\")"
   ]
  },
  {
   "cell_type": "code",
   "execution_count": 1244,
   "id": "a263c8e1-70ec-44c3-b713-6420dc30755b",
   "metadata": {},
   "outputs": [],
   "source": [
    "#spread list is keeping the response values from spreadsheet file \n",
    "spread=[]"
   ]
  },
  {
   "cell_type": "code",
   "execution_count": 1245,
   "id": "2c9fc61b-7ebc-4c4d-898e-27997940aaf5",
   "metadata": {},
   "outputs": [],
   "source": [
    "spread=response['values']\n",
    "#first row is header so we kept them inside header value\n",
    "header=spread[0]"
   ]
  },
  {
   "cell_type": "code",
   "execution_count": 1246,
   "id": "d2f800f7-4f58-459d-b098-36fb2cf7f8c4",
   "metadata": {},
   "outputs": [
    {
     "data": {
      "text/plain": [
       "['Campaign name ',\n",
       " 'Total Impression',\n",
       " 'Total Clicks',\n",
       " 'CTR (%)',\n",
       " 'CPC',\n",
       " 'Total App Install',\n",
       " 'Total Budget']"
      ]
     },
     "execution_count": 1246,
     "metadata": {},
     "output_type": "execute_result"
    }
   ],
   "source": [
    "header"
   ]
  },
  {
   "cell_type": "code",
   "execution_count": 1247,
   "id": "bec1fbb2-b529-4495-9ef8-d9d86f1dcf72",
   "metadata": {},
   "outputs": [],
   "source": [
    "#spreadIdlist is keeping the file Id's "
   ]
  },
  {
   "cell_type": "code",
   "execution_count": 1248,
   "id": "f9a48097-2d57-445c-9ea1-f7000e69bf90",
   "metadata": {},
   "outputs": [],
   "source": [
    "spreadIdlist = []"
   ]
  },
  {
   "cell_type": "markdown",
   "id": "bc62950a-4671-4ae7-b375-c1d7719ad5d7",
   "metadata": {},
   "source": [
    "### 3.2-) Creating Campaign Spreadsheets For Each Row and Moving Them To Dataset Folder"
   ]
  },
  {
   "cell_type": "code",
   "execution_count": 1249,
   "id": "091dcdce-b35d-4364-b761-a01faacf6ff3",
   "metadata": {},
   "outputs": [
    {
     "name": "stdout",
     "output_type": "stream",
     "text": [
      "Campaign written to Spreadsheet: 1IGInQc2HfTCTiE4FDcpz1R7AVShiG8ePHHhcs-MzZzg\n",
      "Campaign written to Spreadsheet: 10ceRt1XSjlzpQfljQQkrz8T2wVMlORhV-4d5HJIa95M\n",
      "Campaign written to Spreadsheet: 17dNaudWASQLC2N3TRX8MEohAOLSRmYUiu7q9Kf7U2qY\n",
      "Campaign written to Spreadsheet: 1osZjVCvoNCNhzN2dcw5-j-DMcfdhmGWIZbURhXRJHiI\n",
      "Campaign written to Spreadsheet: 1Kfadg3kDXuKJh8jJxuPb4vwyKF3Oa-BSSzR17dED8pI\n",
      "Campaign written to Spreadsheet: 1QPR9_oagKnMAA5XI5a6sfkSvnpWzi03BTrU13-UdSJs\n",
      "Campaign written to Spreadsheet: 1ak7yirJJRwtHN_NjX9W7mj2gU0zP6bmzLdj8QEb9DSo\n",
      "Campaign written to Spreadsheet: 1RmerFfgzkjaeZiHFwmhKMwOHLPrP8CsB4EJBjxanWFM\n",
      "Campaign written to Spreadsheet: 1GjUJAvfIndedNNl1VrC-4adTzAI_iKbkFzqt6KwQgDU\n",
      "Campaign written to Spreadsheet: 1jGqJTV-lUHBtwvviuEbRYsxgrcnDSZ8gQ7CpoHb2M9A\n",
      "Campaign written to Spreadsheet: 1l2myzu6RWGo4uvi2WIGsrk9avswrRoHZmO2o35j1uZM\n",
      "Campaign written to Spreadsheet: 1rjdMBTycNUV45OYRs1TB02DiOJ0zr09cMQqv4x5eoQU\n",
      "Campaign written to Spreadsheet: 1xqtvOgtIJjc8YvA2CYMYEgW4IdZg8USj7IW5v64ubEw\n"
     ]
    }
   ],
   "source": [
    "for i in range(1,len(spread)):\n",
    "    spread_name=spread[i][0]\n",
    "    body = spread[i]\n",
    "    title =spread_name\n",
    "    spreadsheet = {\n",
    "        'properties': {\n",
    "            'title': title,\n",
    "            'locale': 'en_US',\n",
    "            'timeZone':'Europe',\n",
    "            'autoRecalc':'HOUR'\n",
    "        }\n",
    "    }\n",
    "\n",
    "    spreadsheet = serviceSheets.spreadsheets().create(body=spreadsheet,fields='spreadsheetId').execute()\n",
    "\n",
    "    spreads_id=spreadsheet.get('spreadsheetId')\n",
    "    request_body = {\n",
    "        \"majorDimension\": \"ROWS\",\n",
    "        \"values\": [\n",
    "            header,body\n",
    "          ]\n",
    "        }\n",
    "\n",
    "    response = serviceSheets.spreadsheets().values().append(\n",
    "    spreadsheetId=spreads_id,\n",
    "    valueInputOption='RAW',\n",
    "    range='Sheet1!A1',\n",
    "    body=request_body\n",
    "    ).execute()\n",
    "\n",
    "    spreadIdlist.append(spreads_id)\n",
    "    \n",
    "    #sending notification message to \"campaign\" channel on Slack\n",
    "    client.chat_postMessage(channel='#campaign',text= \"Spreadsheet is created for campaign \"+ title +\" Spreadsheet ID:\"+spreads_id)\n",
    "    \n",
    "    print(\"Campaign written to Spreadsheet:\",spreads_id)\n"
   ]
  },
  {
   "cell_type": "markdown",
   "id": "d8152429-ec4e-449a-904b-ca0f052f1318",
   "metadata": {},
   "source": [
    "### 3.3) Transfer All Campaign Spreadsheets To Dataset Folder"
   ]
  },
  {
   "cell_type": "code",
   "execution_count": 1250,
   "id": "08826f57-26ac-4c15-8b39-7289d274d2d0",
   "metadata": {},
   "outputs": [
    {
     "name": "stdout",
     "output_type": "stream",
     "text": [
      "File transferred to the location: 1lNeDYhwqA4T-9wnaApkj0VoQROQkPDc4\n",
      "File transferred to the location: 1lNeDYhwqA4T-9wnaApkj0VoQROQkPDc4\n",
      "File transferred to the location: 1lNeDYhwqA4T-9wnaApkj0VoQROQkPDc4\n",
      "File transferred to the location: 1lNeDYhwqA4T-9wnaApkj0VoQROQkPDc4\n",
      "File transferred to the location: 1lNeDYhwqA4T-9wnaApkj0VoQROQkPDc4\n",
      "File transferred to the location: 1lNeDYhwqA4T-9wnaApkj0VoQROQkPDc4\n",
      "File transferred to the location: 1lNeDYhwqA4T-9wnaApkj0VoQROQkPDc4\n",
      "File transferred to the location: 1lNeDYhwqA4T-9wnaApkj0VoQROQkPDc4\n",
      "File transferred to the location: 1lNeDYhwqA4T-9wnaApkj0VoQROQkPDc4\n",
      "File transferred to the location: 1lNeDYhwqA4T-9wnaApkj0VoQROQkPDc4\n",
      "File transferred to the location: 1lNeDYhwqA4T-9wnaApkj0VoQROQkPDc4\n",
      "File transferred to the location: 1lNeDYhwqA4T-9wnaApkj0VoQROQkPDc4\n",
      "File transferred to the location: 1lNeDYhwqA4T-9wnaApkj0VoQROQkPDc4\n"
     ]
    }
   ],
   "source": [
    "for i in range(0,len(spreadIdlist)):\n",
    "    moveFileToFolder(spreadIdlist[i],\"1lNeDYhwqA4T-9wnaApkj0VoQROQkPDc4\")\n",
    "    "
   ]
  },
  {
   "cell_type": "markdown",
   "id": "c159f4a4-217b-450c-ab61-e9bf7559b97e",
   "metadata": {},
   "source": [
    "# 4-) Slack API-Bot (Slack is included in the beginning.)"
   ]
  },
  {
   "cell_type": "markdown",
   "id": "e5dcdd7e-4bef-4a9c-a197-8dc979449b1b",
   "metadata": {},
   "source": [
    "## This is just a reminder for the step 4 is finished."
   ]
  },
  {
   "cell_type": "markdown",
   "id": "b681ddc5-f992-409b-b5f4-9ec9b54cec5c",
   "metadata": {},
   "source": [
    "Notification messages are added to each function."
   ]
  },
  {
   "cell_type": "raw",
   "id": "18be0a49-748e-45a0-90b3-868b3e8c0b2e",
   "metadata": {},
   "source": [
    "import slack\n",
    "import os\n",
    "from pathlib import Path\n",
    "from dotenv import load_dotenv"
   ]
  },
  {
   "cell_type": "raw",
   "id": "5e05312c-db51-4483-a9ff-b4b213eaafc6",
   "metadata": {},
   "source": [
    "env_path = Path('.') / '.env'\n",
    "load_dotenv(dotenv_path=env_path)\n",
    "client = slack.WebClient(token=os.environ['SLACK_TOKEN'])"
   ]
  },
  {
   "cell_type": "code",
   "execution_count": 772,
   "id": "5f543908-8ba2-4854-a4a7-c849bb4148b6",
   "metadata": {},
   "outputs": [],
   "source": [
    "#sending message with the method below"
   ]
  },
  {
   "cell_type": "raw",
   "id": "5efaf20e-bcb1-4535-8fbb-07cafd632e07",
   "metadata": {},
   "source": [
    "client.chat_postMessage(channel='#campaign',text=\"Hello World!\")"
   ]
  },
  {
   "cell_type": "markdown",
   "id": "1111998c-d117-45fa-a5d7-0e28dee594e7",
   "metadata": {},
   "source": [
    "# 5-) Slack API Calculate-Budget Slash Command"
   ]
  },
  {
   "cell_type": "code",
   "execution_count": 1251,
   "id": "30acf60a-bfa0-4025-81cb-5d6e4f9df8c6",
   "metadata": {},
   "outputs": [],
   "source": [
    "#to get and post request, we need flask library."
   ]
  },
  {
   "cell_type": "code",
   "execution_count": 1252,
   "id": "4a27b51b-492d-4b97-81a4-d24613e92c3f",
   "metadata": {},
   "outputs": [],
   "source": [
    "from flask import Flask, request, Response\n",
    "from slackeventsapi import SlackEventAdapter"
   ]
  },
  {
   "cell_type": "code",
   "execution_count": 1253,
   "id": "ffc7e245-a0c6-4d46-add7-0758f628cff6",
   "metadata": {},
   "outputs": [],
   "source": [
    "app = Flask(__name__)\n",
    "slack_event_adapter= SlackEventAdapter(os.environ['SIGNING_SECRET'],'/slack/events',app)"
   ]
  },
  {
   "cell_type": "code",
   "execution_count": 1254,
   "id": "bc56a5ff-f657-4077-831b-a9ffc0ae1cab",
   "metadata": {},
   "outputs": [],
   "source": [
    "client=slack.WebClient(token=os.environ['SLACK_TOKEN'])\n"
   ]
  },
  {
   "cell_type": "code",
   "execution_count": 1255,
   "id": "44aad16f-b7ed-4cca-85ef-a4d7ca17d712",
   "metadata": {},
   "outputs": [],
   "source": [
    "#Campaign dictionary to hold the total budget values."
   ]
  },
  {
   "cell_type": "code",
   "execution_count": 1256,
   "id": "64464cae-5924-428d-8bc7-0a3e7755ff47",
   "metadata": {},
   "outputs": [],
   "source": [
    "dicti={}"
   ]
  },
  {
   "cell_type": "code",
   "execution_count": 1257,
   "id": "200000e5-7401-444d-8e42-fa59a99342f5",
   "metadata": {},
   "outputs": [],
   "source": [
    "for i in range(1,len(spread)):\n",
    "    index=spread[i][0].strip()\n",
    "    dicti[index]={spread[i][6]}"
   ]
  },
  {
   "cell_type": "code",
   "execution_count": 1212,
   "id": "e5b79f54-898b-4cb8-ae56-4016f2be8595",
   "metadata": {},
   "outputs": [],
   "source": [
    "#Slack API sends the campaign name and SearchResult returns the budget "
   ]
  },
  {
   "cell_type": "code",
   "execution_count": 1258,
   "id": "8f8859ee-938d-4179-9fa7-05a618761635",
   "metadata": {},
   "outputs": [],
   "source": [
    "def searchResult(text):\n",
    "    text = str(text)\n",
    "    result =\"Campaign \"+ text +\" Total Budget is \" + str(dicti[text])\n",
    "    return result\n",
    "    "
   ]
  },
  {
   "cell_type": "code",
   "execution_count": 1259,
   "id": "0518c132-0f1d-433f-9cb6-8c169f1648a4",
   "metadata": {},
   "outputs": [],
   "source": [
    "#Slack API Slash Command "
   ]
  },
  {
   "cell_type": "code",
   "execution_count": 1260,
   "id": "a271861f-024a-4012-b844-81b568fd47f9",
   "metadata": {},
   "outputs": [],
   "source": [
    "@app.route('/calculate-budget', methods=['GET','POST'])\n",
    "def calculate_budget():\n",
    "    #get data, userId,channelId and Text.\n",
    "    data = request.form\n",
    "    user_id= data.get('user_id')\n",
    "    channel_id =data.get('channel_id')\n",
    "    text = data.get('text')\n",
    "    \n",
    "    #transform it to uppercase and send to SearchResult function to get the Total Budget.\n",
    "    send_text=text.upper()\n",
    "    #send value keeps the text client will see.\n",
    "    send=searchResult(send_text)\n",
    "    client.chat_postMessage(channel=channel_id,text=send)\n",
    "    return Response(), 200"
   ]
  },
  {
   "cell_type": "code",
   "execution_count": 1261,
   "id": "344a6f4b-a419-4c6c-b6a0-d0a92a14264a",
   "metadata": {},
   "outputs": [],
   "source": [
    "#initialize the flask service\n",
    "#then ngrok.exe needs to be started.\n",
    "# enter 'ngrok http 5000' to start it on its prompt"
   ]
  },
  {
   "cell_type": "code",
   "execution_count": 1262,
   "id": "f23ed0a5-3b1f-406f-89f2-2a20df4aac17",
   "metadata": {},
   "outputs": [
    {
     "name": "stdout",
     "output_type": "stream",
     "text": [
      " * Serving Flask app \"__main__\" (lazy loading)\n",
      " * Environment: production\n",
      "   WARNING: This is a development server. Do not use it in a production deployment.\n",
      "   Use a production WSGI server instead.\n",
      " * Debug mode: on\n"
     ]
    },
    {
     "name": "stderr",
     "output_type": "stream",
     "text": [
      " * Running on http://127.0.0.1:5000/ (Press CTRL+C to quit)\n",
      "127.0.0.1 - - [07/Oct/2021 03:30:41] \"\u001b[37mPOST /calculate-budget HTTP/1.1\u001b[0m\" 200 -\n",
      "127.0.0.1 - - [07/Oct/2021 03:30:50] \"\u001b[37mPOST /calculate-budget HTTP/1.1\u001b[0m\" 200 -\n",
      "127.0.0.1 - - [07/Oct/2021 03:30:56] \"\u001b[37mPOST /calculate-budget HTTP/1.1\u001b[0m\" 200 -\n",
      "127.0.0.1 - - [07/Oct/2021 03:31:07] \"\u001b[37mPOST /calculate-budget HTTP/1.1\u001b[0m\" 200 -\n",
      "127.0.0.1 - - [07/Oct/2021 03:31:15] \"\u001b[37mPOST /calculate-budget HTTP/1.1\u001b[0m\" 200 -\n"
     ]
    }
   ],
   "source": [
    "if __name__ == \"__main__\":\n",
    "    app.run(debug=True, use_reloader=False)\n",
    "    "
   ]
  },
  {
   "cell_type": "code",
   "execution_count": null,
   "id": "91bdb767-5ba6-40e1-9644-3f48552d4d7e",
   "metadata": {},
   "outputs": [],
   "source": []
  },
  {
   "cell_type": "code",
   "execution_count": null,
   "id": "51341bd8-bd56-4569-a303-34f9f13e7e10",
   "metadata": {},
   "outputs": [],
   "source": []
  }
 ],
 "metadata": {
  "kernelspec": {
   "display_name": "Python 3",
   "language": "python",
   "name": "python3"
  },
  "language_info": {
   "codemirror_mode": {
    "name": "ipython",
    "version": 3
   },
   "file_extension": ".py",
   "mimetype": "text/x-python",
   "name": "python",
   "nbconvert_exporter": "python",
   "pygments_lexer": "ipython3",
   "version": "3.8.8"
  }
 },
 "nbformat": 4,
 "nbformat_minor": 5
}
